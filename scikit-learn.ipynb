{
 "cells": [
  {
   "cell_type": "markdown",
   "id": "4d21fbc2-5d58-4dea-a368-dd157552619a",
   "metadata": {},
   "source": [
    "# The Scikit-learn Python Library\n",
    "\n",
    "[Official Website](https://scikit-learn.org/stable/index.html)"
   ]
  },
  {
   "cell_type": "markdown",
   "id": "109acfeb-9aa0-48f3-b176-13ff36fb80bd",
   "metadata": {},
   "source": [
    "# DecisionTreeRegressor - Decision Tree Algorithm\n",
    "## Forest Fire Dataset\n",
    "### Goal is to predict the burned area of forest fires\n",
    "https://scikit-learn.org/stable/modules/tree.html#tree\n",
    "***"
   ]
  },
  {
   "cell_type": "code",
   "execution_count": null,
   "id": "9e4a605d-2641-42ed-b898-b93f8ef3386a",
   "metadata": {},
   "outputs": [],
   "source": []
  },
  {
   "cell_type": "code",
   "execution_count": null,
   "id": "c3cb19fd-2b69-4d0b-835d-8b9e2150c0a0",
   "metadata": {},
   "outputs": [],
   "source": []
  },
  {
   "cell_type": "code",
   "execution_count": null,
   "id": "550b4393-b24a-4e1a-b3f1-6e9509496994",
   "metadata": {},
   "outputs": [],
   "source": []
  },
  {
   "cell_type": "code",
   "execution_count": null,
   "id": "9ec5a69d-40a8-43ac-ad7c-cd1499d2a064",
   "metadata": {},
   "outputs": [],
   "source": []
  },
  {
   "cell_type": "markdown",
   "id": "37573a6a-1081-4bee-8218-45b918a182a5",
   "metadata": {},
   "source": [
    "\n",
    "\n",
    "# End of DecisionTreeRegressor - Decision Tree Algorithm\n",
    "\n",
    "***"
   ]
  },
  {
   "cell_type": "markdown",
   "id": "647c598c-3075-4f45-927a-1438f27a29a0",
   "metadata": {},
   "source": [
    "***"
   ]
  },
  {
   "cell_type": "markdown",
   "id": "d3f24a88-03f0-49b6-8e9e-cc8873c4454c",
   "metadata": {},
   "source": [
    "***\n",
    "\n",
    "# K-Means - Clustering Algorithm\n",
    "## Household Power Consumption Dataset\n",
    "### Goal is to predict a short term forecast on electricity consumption \n",
    "https://scikit-learn.org/stable/modules/clustering.html#k-means\n",
    "\n",
    "***"
   ]
  },
  {
   "cell_type": "code",
   "execution_count": null,
   "id": "550fc145-e336-4019-ab66-dad0b4f67a3e",
   "metadata": {},
   "outputs": [],
   "source": []
  },
  {
   "cell_type": "code",
   "execution_count": null,
   "id": "d5b6e16f-848a-4e12-8ec3-8bd170117b86",
   "metadata": {},
   "outputs": [],
   "source": []
  },
  {
   "cell_type": "code",
   "execution_count": null,
   "id": "b0ae87e8-f9b6-4637-a497-1b00750a50d2",
   "metadata": {},
   "outputs": [],
   "source": []
  },
  {
   "cell_type": "code",
   "execution_count": null,
   "id": "245c5082-6975-49ef-a71a-2c31e9d5de48",
   "metadata": {},
   "outputs": [],
   "source": []
  },
  {
   "cell_type": "markdown",
   "id": "f959252b-60ee-4537-bc7c-e42587909603",
   "metadata": {},
   "source": [
    "\n",
    "\n",
    "# End of K-Means - Clustering Algorithm\n",
    "\n",
    "***"
   ]
  },
  {
   "cell_type": "markdown",
   "id": "97f3bd34-74e1-4c90-aee1-fabde42ab64d",
   "metadata": {},
   "source": [
    "***"
   ]
  },
  {
   "cell_type": "markdown",
   "id": "ad83d5a4-d237-46f2-a981-9e9ac60e2731",
   "metadata": {},
   "source": [
    "***\n",
    "\n",
    "# LinearSVC - Support Vector Machine Algorithm\n",
    "## Wine Dataset\n",
    "### Goal is to use chemical analysis to determine the origin of wines\n",
    "https://scikit-learn.org/stable/modules/svm.html#svm-classification\n",
    "***"
   ]
  },
  {
   "cell_type": "markdown",
   "id": "b4ad5a06-b5fc-4087-8fb4-932accaee3c3",
   "metadata": {},
   "source": [
    "## Setup\n"
   ]
  },
  {
   "cell_type": "code",
   "execution_count": 1,
   "id": "929ca90f-19b0-4567-be1f-04257cb02a48",
   "metadata": {},
   "outputs": [],
   "source": [
    "# Numerical arrays.\n",
    "import numpy as np\n",
    "\n",
    "# Data frames.\n",
    "import pandas as pd\n",
    "\n",
    "# Plotting.\n",
    "import matplotlib.pyplot as plt\n",
    "\n",
    "# Fancier, statistical plots.\n",
    "import seaborn as sns"
   ]
  },
  {
   "cell_type": "code",
   "execution_count": 4,
   "id": "f739c1b2-f450-42b4-8f34-4905d96802a3",
   "metadata": {},
   "outputs": [],
   "source": [
    "# Loading the wine data set\n"
   ]
  },
  {
   "cell_type": "code",
   "execution_count": null,
   "id": "c0879a16-a4f3-42c5-89ac-b77b4de86e60",
   "metadata": {},
   "outputs": [],
   "source": []
  },
  {
   "cell_type": "code",
   "execution_count": null,
   "id": "5f0c3974-374c-4657-8b37-2b7eb34b072b",
   "metadata": {},
   "outputs": [],
   "source": []
  },
  {
   "cell_type": "code",
   "execution_count": null,
   "id": "e8d381a7-0d5a-4e61-9d28-a9e1503c57ec",
   "metadata": {},
   "outputs": [],
   "source": []
  },
  {
   "cell_type": "code",
   "execution_count": null,
   "id": "c1eeb6dd-fae2-4176-8c75-10cb9715be4e",
   "metadata": {},
   "outputs": [],
   "source": []
  },
  {
   "cell_type": "code",
   "execution_count": null,
   "id": "9e232d48-9a4b-4954-bbcc-4f6ae98d0126",
   "metadata": {},
   "outputs": [],
   "source": []
  },
  {
   "cell_type": "code",
   "execution_count": null,
   "id": "f1199501-db81-422c-95fe-9b2bc5fec098",
   "metadata": {},
   "outputs": [],
   "source": []
  },
  {
   "cell_type": "code",
   "execution_count": null,
   "id": "7b16cab3-2546-4952-a6ed-5dcaab52a7ea",
   "metadata": {},
   "outputs": [],
   "source": []
  },
  {
   "cell_type": "code",
   "execution_count": null,
   "id": "be6e4475-2a1f-4951-b3da-430f5b5e64e2",
   "metadata": {},
   "outputs": [],
   "source": []
  },
  {
   "cell_type": "code",
   "execution_count": null,
   "id": "b02809ca-c415-428b-afc2-7b8a907490e8",
   "metadata": {},
   "outputs": [],
   "source": []
  },
  {
   "cell_type": "code",
   "execution_count": null,
   "id": "15232236-74dd-4a74-ba52-1150aac9806a",
   "metadata": {},
   "outputs": [],
   "source": []
  },
  {
   "cell_type": "code",
   "execution_count": null,
   "id": "abcdd5ef-2309-4a59-acd7-30d29be2254b",
   "metadata": {},
   "outputs": [],
   "source": []
  },
  {
   "cell_type": "code",
   "execution_count": null,
   "id": "545a1696-b6d7-42a0-8eea-b7c9ef93d36e",
   "metadata": {},
   "outputs": [],
   "source": []
  },
  {
   "cell_type": "code",
   "execution_count": null,
   "id": "5245b235-3998-458e-b48b-7ff627af1f51",
   "metadata": {},
   "outputs": [],
   "source": []
  },
  {
   "cell_type": "code",
   "execution_count": null,
   "id": "8fd33487-1bde-4625-a464-cbb977e5fa8b",
   "metadata": {},
   "outputs": [],
   "source": []
  },
  {
   "cell_type": "markdown",
   "id": "f54b1d96-e0c8-47f8-941f-865ff56c85ff",
   "metadata": {},
   "source": [
    "\n",
    "\n",
    "# End of LinearSVC - Support Vector Machine Algorithm\n",
    "\n",
    "***\n"
   ]
  },
  {
   "cell_type": "code",
   "execution_count": null,
   "id": "b8fef1b3-a13c-44b3-9055-6ff73c6c6982",
   "metadata": {},
   "outputs": [],
   "source": []
  },
  {
   "cell_type": "code",
   "execution_count": null,
   "id": "a152ea0f-dedb-4435-8a13-d923bfcb6f37",
   "metadata": {},
   "outputs": [],
   "source": []
  },
  {
   "cell_type": "code",
   "execution_count": null,
   "id": "d1c9f2c5-2463-4864-a911-3f86674f7e3d",
   "metadata": {},
   "outputs": [],
   "source": []
  },
  {
   "cell_type": "code",
   "execution_count": null,
   "id": "e1d2ecd1-69d5-4988-a57e-09d1a897b74e",
   "metadata": {},
   "outputs": [],
   "source": []
  }
 ],
 "metadata": {
  "kernelspec": {
   "display_name": "Python 3 (ipykernel)",
   "language": "python",
   "name": "python3"
  },
  "language_info": {
   "codemirror_mode": {
    "name": "ipython",
    "version": 3
   },
   "file_extension": ".py",
   "mimetype": "text/x-python",
   "name": "python",
   "nbconvert_exporter": "python",
   "pygments_lexer": "ipython3",
   "version": "3.8.12"
  }
 },
 "nbformat": 4,
 "nbformat_minor": 5
}
