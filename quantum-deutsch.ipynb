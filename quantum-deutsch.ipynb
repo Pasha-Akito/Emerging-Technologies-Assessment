{
 "cells": [
  {
   "cell_type": "markdown",
   "id": "4db91628-f709-4739-b375-02cb5144e7f0",
   "metadata": {},
   "source": [
    "# The Deutsch-Jozsa Algorithm\n",
    "\n",
    "[Official Website](https://qiskit.org/textbook/ch-algorithms/deutsch-jozsa.html)"
   ]
  },
  {
   "cell_type": "code",
   "execution_count": null,
   "id": "af81c3fc-22a6-491f-a781-143d6cb5313a",
   "metadata": {},
   "outputs": [],
   "source": []
  },
  {
   "cell_type": "code",
   "execution_count": null,
   "id": "4b1710f6-1184-450a-ae98-ca93171791a0",
   "metadata": {},
   "outputs": [],
   "source": []
  },
  {
   "cell_type": "code",
   "execution_count": null,
   "id": "d9e75b58-d4fe-41be-aea5-e1822b600cec",
   "metadata": {},
   "outputs": [],
   "source": []
  },
  {
   "cell_type": "code",
   "execution_count": null,
   "id": "54ed81de-3d95-4b27-bc0c-be8f7bb0b32a",
   "metadata": {},
   "outputs": [],
   "source": []
  },
  {
   "cell_type": "code",
   "execution_count": null,
   "id": "a6d1724e-8f4d-4b54-9721-fde902f5be9d",
   "metadata": {},
   "outputs": [],
   "source": []
  },
  {
   "cell_type": "code",
   "execution_count": null,
   "id": "1da36e46-c873-453d-bb29-54abcfb49219",
   "metadata": {},
   "outputs": [],
   "source": []
  },
  {
   "cell_type": "code",
   "execution_count": null,
   "id": "cae276de-f017-4d44-bf6f-66c5db125e3b",
   "metadata": {},
   "outputs": [],
   "source": []
  },
  {
   "cell_type": "code",
   "execution_count": null,
   "id": "aa729c3c-0a77-4e8f-9a67-8b86d231c272",
   "metadata": {},
   "outputs": [],
   "source": []
  }
 ],
 "metadata": {
  "kernelspec": {
   "display_name": "Python 3",
   "language": "python",
   "name": "python3"
  },
  "language_info": {
   "codemirror_mode": {
    "name": "ipython",
    "version": 3
   },
   "file_extension": ".py",
   "mimetype": "text/x-python",
   "name": "python",
   "nbconvert_exporter": "python",
   "pygments_lexer": "ipython3",
   "version": "3.8.8"
  }
 },
 "nbformat": 4,
 "nbformat_minor": 5
}
