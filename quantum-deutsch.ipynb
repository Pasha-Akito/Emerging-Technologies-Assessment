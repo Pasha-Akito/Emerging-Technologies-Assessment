{
 "cells": [
  {
   "cell_type": "markdown",
   "id": "4db91628-f709-4739-b375-02cb5144e7f0",
   "metadata": {},
   "source": [
    "# The Deutsch-Jozsa Algorithm\n",
    "\n",
    "[Official Website](https://qiskit.org/textbook/ch-algorithms/deutsch-jozsa.html)\n",
    "\n",
    "***"
   ]
  },
  {
   "cell_type": "markdown",
   "id": "9fed46a6-d1a7-4833-8fc0-3e26a223c294",
   "metadata": {},
   "source": [
    "## What is Classical Computing\n",
    "\n",
    "***"
   ]
  },
  {
   "cell_type": "markdown",
   "id": "8db2f835-5ba5-4557-b2c5-d7b21c629e52",
   "metadata": {},
   "source": [
    "## What is Quantum Computing\n",
    "\n",
    "***"
   ]
  },
  {
   "cell_type": "markdown",
   "id": "a9b34bb9-0d48-42cb-a2cb-7bdc72b895d4",
   "metadata": {},
   "source": [
    "## Differences between the two\n",
    "\n",
    "***"
   ]
  },
  {
   "cell_type": "markdown",
   "id": "59acc95b-4abb-4adf-9581-3b41ede64caa",
   "metadata": {},
   "source": [
    "# Code Below\n",
    "\n",
    "***"
   ]
  },
  {
   "cell_type": "code",
   "execution_count": 3,
   "id": "a6d1724e-8f4d-4b54-9721-fde902f5be9d",
   "metadata": {},
   "outputs": [],
   "source": [
    "from qiskit import QuantumCircuit, assemble, Aer\n",
    "from qiskit.visualization import plot_histogram"
   ]
  },
  {
   "cell_type": "code",
   "execution_count": null,
   "id": "b6d95015-89fb-41eb-acae-7d89ead1f604",
   "metadata": {},
   "outputs": [],
   "source": []
  },
  {
   "cell_type": "code",
   "execution_count": null,
   "id": "fbd5639b-8d39-4359-b008-2e853b31c3ca",
   "metadata": {},
   "outputs": [],
   "source": []
  },
  {
   "cell_type": "code",
   "execution_count": null,
   "id": "1a2bb094-5222-4663-a2b6-cb36dc66cc65",
   "metadata": {},
   "outputs": [],
   "source": []
  },
  {
   "cell_type": "code",
   "execution_count": null,
   "id": "30cc4e05-13cb-4b8f-b58a-b3aad222a654",
   "metadata": {},
   "outputs": [],
   "source": []
  },
  {
   "cell_type": "code",
   "execution_count": null,
   "id": "0cfdf840-a88a-4f2a-b7b7-271fae140b89",
   "metadata": {},
   "outputs": [],
   "source": []
  },
  {
   "cell_type": "code",
   "execution_count": null,
   "id": "f672386d-0873-4e54-9cdf-d58c3362ee11",
   "metadata": {},
   "outputs": [],
   "source": []
  },
  {
   "cell_type": "code",
   "execution_count": null,
   "id": "c1bdfb1f-e65b-4d4f-87c7-6bc8c2a600ac",
   "metadata": {},
   "outputs": [],
   "source": []
  },
  {
   "cell_type": "code",
   "execution_count": null,
   "id": "45e27c81-4b29-463d-86d7-81d3bea0970d",
   "metadata": {},
   "outputs": [],
   "source": []
  },
  {
   "cell_type": "code",
   "execution_count": null,
   "id": "1da36e46-c873-453d-bb29-54abcfb49219",
   "metadata": {},
   "outputs": [],
   "source": []
  },
  {
   "cell_type": "code",
   "execution_count": null,
   "id": "cae276de-f017-4d44-bf6f-66c5db125e3b",
   "metadata": {},
   "outputs": [],
   "source": []
  },
  {
   "cell_type": "code",
   "execution_count": null,
   "id": "aa729c3c-0a77-4e8f-9a67-8b86d231c272",
   "metadata": {},
   "outputs": [],
   "source": []
  }
 ],
 "metadata": {
  "kernelspec": {
   "display_name": "Python 3 (ipykernel)",
   "language": "python",
   "name": "python3"
  },
  "language_info": {
   "codemirror_mode": {
    "name": "ipython",
    "version": 3
   },
   "file_extension": ".py",
   "mimetype": "text/x-python",
   "name": "python",
   "nbconvert_exporter": "python",
   "pygments_lexer": "ipython3",
   "version": "3.8.12"
  }
 },
 "nbformat": 4,
 "nbformat_minor": 5
}
