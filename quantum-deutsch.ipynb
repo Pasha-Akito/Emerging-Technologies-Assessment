{
 "cells": [
  {
   "cell_type": "markdown",
   "id": "26296214-2240-4bff-b710-b69d32fc4aac",
   "metadata": {},
   "source": [
    "# What is Quantum Computing\n",
    "\n",
    "***\n",
    "\n",
    "It is a type of computing that utilises properties of quantum states such as superposition, entanglement and interference to perform it's calculations.\n",
    "Quantum computers process information in a fundementally different way to classical computing. Classical computers require transistors, which can be used to either represent '1' or '0' but quantum computers use qubits, which can represent 0 and 1 at the same time.\n",
    "- Quantum computers increase exponentially in power by the amount of qubits linked together.\n",
    "- Unlike classical computers which only increase in direction proprotion to the number of transistors <br>\n",
    "\n",
    "A quantum circuit is a computational routine consisting of coherent quantum operations <br>\n",
    "<img src=\"circuit.png\" width=\"600\"> <br>\n",
    "\n",
    "#### *Initialization and reset*\n",
    "- First we need to start our quantum computer with well definied quantum states. We accomplish this with the initialization and reset operations\n",
    "- The resets can be performed by single-qubit gates and real-time classical computation.\n",
    "    - they monitor whether we have achieved the desired state\n",
    "- The initialization of q0 into a desired state  |ψ⟩ can then follow by applying single-qubit gates\n",
    "\n",
    "#### *Quantum gates*\n",
    "- We apply a sequence of quantum gates that manipulate the three qubits\n",
    "\n",
    "#### *Measurements*\n",
    "- We measure two of the three qubits\n",
    "- A classical computer interprets these qubits as either 1 or 0 and then stores them\n",
    "\n",
    "#### *Classically condition quantum gates*\n",
    "- We apply single-qubit Z and X quantum gates on the third qubit\n",
    "- These gates are conditioned on the results of the measurements stored in the two classical bits\n",
    "\n",
    "### What do we need it for\n",
    "- Quantum computers can solve complex problems which be used by business or to discover new technologies\n",
    "- It would be able to simulate on a molecular level which would help pharmaceutical companies with making new drugs\n",
    "- Current applications of quantum computing at the moment are searching for the Higgs event and origins of the universe\n",
    "- Quantum computers are drastically fast compared to classical compueters\n",
    "    - to search for a list containing 1 trillion items would require a classical computer a week, a quantum computer only one second\n",
    "<br> <br>\n",
    "\n",
    "\n",
    "## What is classical computing\n",
    "\n",
    "***\n",
    "\n",
    "- They require transistors which can either be on or off\n",
    "- This information is stored in bits which are represented by either '1' or '0' <br>\n",
    "\n",
    "Classical computers can outperform quantum computers in practical applications. Although quantum computers are believed to be able to solve certain complex problems such as interger factorization which would underline encryption or manipulate the blockchain and underline certain cryptocurrencies.\n",
    "Here is a comparison of the two. <br>\n",
    "\n",
    "| Quantum Computing | Classical Computing |\n",
    "|------|------|\n",
    "| Based on the phenomenon of quantum mechanics where it is possible to be in more than one state at a time | Based on the classical phenomenon of electrical circuit being in a single state at a time |\n",
    "| Used by large scale \n",
    "| Information storage is based on a Quantum Bit or qubit | Information storage is based on a bit |\n",
    "| A bit can be 1 or 0 at the same time | A bit can only be 1 or 0 |\n",
    "| Circuit behaviour is governed by quantum physics | Circuit behaviour is governed by classical physics |\n",
    "| SQUID or quantum transistors are the basic building blocks of classic computers | CMOS transistors are the basic building blocks of classical computers |\n",
    "| Data processing is done in the Quantum Processing Unit (QPU) | Data processing is done in the Central Processing Unit (CPU) |\n",
    "| Operations are defined by Linear Algebra over Hilbert space | Operations are defined by Boolean Algebra |"
   ]
  },
  {
   "cell_type": "markdown",
   "id": "4db91628-f709-4739-b375-02cb5144e7f0",
   "metadata": {
    "tags": []
   },
   "source": [
    "# The Deutsch-Jozsa Algorithm\n",
    "\n",
    "[Official Website](https://qiskit.org/textbook/ch-algorithms/deutsch-jozsa.html)\n",
    "\n",
    "***"
   ]
  },
  {
   "cell_type": "markdown",
   "id": "59acc95b-4abb-4adf-9581-3b41ede64caa",
   "metadata": {},
   "source": [
    "# Code Below\n",
    "\n",
    "***"
   ]
  },
  {
   "cell_type": "code",
   "execution_count": 3,
   "id": "a6d1724e-8f4d-4b54-9721-fde902f5be9d",
   "metadata": {},
   "outputs": [],
   "source": [
    "from qiskit import QuantumCircuit, assemble, Aer\n",
    "from qiskit.visualization import plot_histogram"
   ]
  },
  {
   "cell_type": "code",
   "execution_count": null,
   "id": "b6d95015-89fb-41eb-acae-7d89ead1f604",
   "metadata": {},
   "outputs": [],
   "source": []
  },
  {
   "cell_type": "code",
   "execution_count": null,
   "id": "fbd5639b-8d39-4359-b008-2e853b31c3ca",
   "metadata": {},
   "outputs": [],
   "source": []
  },
  {
   "cell_type": "code",
   "execution_count": null,
   "id": "1a2bb094-5222-4663-a2b6-cb36dc66cc65",
   "metadata": {},
   "outputs": [],
   "source": []
  },
  {
   "cell_type": "code",
   "execution_count": null,
   "id": "30cc4e05-13cb-4b8f-b58a-b3aad222a654",
   "metadata": {},
   "outputs": [],
   "source": []
  },
  {
   "cell_type": "code",
   "execution_count": null,
   "id": "0cfdf840-a88a-4f2a-b7b7-271fae140b89",
   "metadata": {},
   "outputs": [],
   "source": []
  },
  {
   "cell_type": "code",
   "execution_count": null,
   "id": "f672386d-0873-4e54-9cdf-d58c3362ee11",
   "metadata": {},
   "outputs": [],
   "source": []
  },
  {
   "cell_type": "code",
   "execution_count": null,
   "id": "c1bdfb1f-e65b-4d4f-87c7-6bc8c2a600ac",
   "metadata": {},
   "outputs": [],
   "source": []
  },
  {
   "cell_type": "code",
   "execution_count": null,
   "id": "45e27c81-4b29-463d-86d7-81d3bea0970d",
   "metadata": {},
   "outputs": [],
   "source": []
  },
  {
   "cell_type": "code",
   "execution_count": null,
   "id": "1da36e46-c873-453d-bb29-54abcfb49219",
   "metadata": {},
   "outputs": [],
   "source": []
  },
  {
   "cell_type": "code",
   "execution_count": null,
   "id": "cae276de-f017-4d44-bf6f-66c5db125e3b",
   "metadata": {},
   "outputs": [],
   "source": []
  },
  {
   "cell_type": "code",
   "execution_count": null,
   "id": "aa729c3c-0a77-4e8f-9a67-8b86d231c272",
   "metadata": {},
   "outputs": [],
   "source": []
  }
 ],
 "metadata": {
  "kernelspec": {
   "display_name": "Python 3 (ipykernel)",
   "language": "python",
   "name": "python3"
  },
  "language_info": {
   "codemirror_mode": {
    "name": "ipython",
    "version": 3
   },
   "file_extension": ".py",
   "mimetype": "text/x-python",
   "name": "python",
   "nbconvert_exporter": "python",
   "pygments_lexer": "ipython3",
   "version": "3.8.12"
  }
 },
 "nbformat": 4,
 "nbformat_minor": 5
}
