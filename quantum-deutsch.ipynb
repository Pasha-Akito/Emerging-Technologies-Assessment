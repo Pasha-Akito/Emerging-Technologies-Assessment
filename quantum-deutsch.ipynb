{
 "cells": [
  {
   "cell_type": "markdown",
   "id": "26296214-2240-4bff-b710-b69d32fc4aac",
   "metadata": {},
   "source": [
    "# What is Quantum Computing\n",
    "\n",
    "***\n",
    "\n",
    "It is a type of computing that utilises properties of quantum states such as superposition, entanglement and interference to perform it's calculations.\n",
    "Quantum computers process information in a fundementally different way to classical computing. Classical computers require transistors, which can be used to either represent '1' or '0' but quantum computers use qubits, which can represent 0 and 1 at the same time.\n",
    "- Quantum computers increase exponentially in power by the amount of qubits linked together.\n",
    "- Unlike classical computers which only increase in direction proprotion to the number of transistors <br>\n",
    "\n",
    "A quantum circuit is a computational routine consisting of coherent quantum operations <br>\n",
    "<img src=\"circuit.png\" width=\"600\"> <br>\n",
    "\n",
    "#### *Initialization and reset*\n",
    "- First we need to start our quantum computer with well definied quantum states. We accomplish this with the initialization and reset operations\n",
    "- The resets can be performed by single-qubit gates and real-time classical computation.\n",
    "    - they monitor whether we have achieved the desired state\n",
    "- The initialization of q0 into a desired state  |ψ⟩ can then follow by applying single-qubit gates\n",
    "\n",
    "#### *Quantum gates*\n",
    "- We apply a sequence of quantum gates that manipulate the three qubits\n",
    "\n",
    "#### *Measurements*\n",
    "- We measure two of the three qubits\n",
    "- A classical computer interprets these qubits as either 1 or 0 and then stores them\n",
    "\n",
    "#### *Classically condition quantum gates*\n",
    "- We apply single-qubit Z and X quantum gates on the third qubit\n",
    "- These gates are conditioned on the results of the measurements stored in the two classical bits\n",
    "\n",
    "### What do we need it for\n",
    "- Quantum computers can solve complex problems which be used by business or to discover new technologies\n",
    "- It would be able to simulate on a molecular level which would help pharmaceutical companies with making new drugs\n",
    "- Current applications of quantum computing at the moment are searching for the Higgs event and origins of the universe\n",
    "- Quantum computers are drastically fast compared to classical compueters\n",
    "    - to search for a list containing 1 trillion items would require a classical computer a week, a quantum computer only one second\n",
    "<br> <br>\n",
    "\n",
    "\n",
    "## What is classical computing\n",
    "\n",
    "***\n",
    "\n",
    "- They require transistors which can either be on or off\n",
    "- This information is stored in bits which are represented by either '1' or '0' <br>\n",
    "\n",
    "Classical computers can outperform quantum computers in practical applications. Although quantum computers are believed to be able to solve certain complex problems such as interger factorization which would underline encryption or manipulate the blockchain and underline certain cryptocurrencies.\n",
    "Here is a comparison of the two. <br>\n",
    "\n",
    "| Quantum Computing | Classical Computing |\n",
    "|------|------|\n",
    "| Based on the phenomenon of quantum mechanics where it is possible to be in more than one state at a time | Based on the classical phenomenon of electrical circuit being in a single state at a time |\n",
    "| Used by large scale \n",
    "| Information storage is based on a Quantum Bit or qubit | Information storage is based on a bit |\n",
    "| A bit can be 1 or 0 at the same time | A bit can only be 1 or 0 |\n",
    "| Circuit behaviour is governed by quantum physics | Circuit behaviour is governed by classical physics |\n",
    "| SQUID or quantum transistors are the basic building blocks of classic computers | CMOS transistors are the basic building blocks of classical computers |\n",
    "| Data processing is done in the Quantum Processing Unit (QPU) | Data processing is done in the Central Processing Unit (CPU) |\n",
    "| Operations are defined by Linear Algebra over Hilbert space | Operations are defined by Boolean Algebra |"
   ]
  },
  {
   "cell_type": "markdown",
   "id": "4db91628-f709-4739-b375-02cb5144e7f0",
   "metadata": {
    "tags": []
   },
   "source": [
    "# The Deutsch-Jozsa Algorithm\n",
    "\n",
    "[Official Website](https://qiskit.org/textbook/ch-algorithms/deutsch-jozsa.html)\n",
    "\n",
    "***\n",
    "\n",
    "The Deutsch-Jozsa Algorithm, was the first example of a quantum algorithm performing better than the best classical algorithm. <br>\n",
    "It showed that there can be advantages to using quantum computing as a computational tool for a specific problem. <br>\n",
    "\n",
    "We will now implement the Deutsch-Jozsa algorithm for the example of a three-bit function. With both constant and balanced oracles\n",
    "#### Code Below\n",
    "\n",
    "***"
   ]
  },
  {
   "cell_type": "code",
   "execution_count": 1,
   "id": "a6d1724e-8f4d-4b54-9721-fde902f5be9d",
   "metadata": {},
   "outputs": [],
   "source": [
    "# Imports\n",
    "import numpy as np\n",
    "# Qiskit \n",
    "import qiskit\n",
    "# Aer simulator\n",
    "import qiskit.providers.aer as aer\n",
    "# Visualisation\n",
    "from qiskit.visualization import plot_histogram\n",
    "import matplotlib.pyplot as plt\n",
    "# Changing pyplot style\n",
    "plt.style.use('ggplot')"
   ]
  },
  {
   "cell_type": "code",
   "execution_count": 2,
   "id": "b6d95015-89fb-41eb-acae-7d89ead1f604",
   "metadata": {},
   "outputs": [],
   "source": [
    "# Setting the length of the input register for our oracle\n",
    "n = 3"
   ]
  },
  {
   "cell_type": "code",
   "execution_count": 3,
   "id": "fbd5639b-8d39-4359-b008-2e853b31c3ca",
   "metadata": {},
   "outputs": [
    {
     "data": {
      "text/html": [
       "<pre style=\"word-wrap: normal;white-space: pre;background: #fff0;line-height: 1.1;font-family: &quot;Courier New&quot;,Courier,monospace\">     \n",
       "q_0: \n",
       "     \n",
       "q_1: \n",
       "     \n",
       "q_2: \n",
       "     \n",
       "q_3: \n",
       "     </pre>"
      ],
      "text/plain": [
       "     \n",
       "q_0: \n",
       "     \n",
       "q_1: \n",
       "     \n",
       "q_2: \n",
       "     \n",
       "q_3: \n",
       "     "
      ]
     },
     "execution_count": 3,
     "metadata": {},
     "output_type": "execute_result"
    }
   ],
   "source": [
    "# Constant Oracle\n",
    "constant_oracle = qiskit.QuantumCircuit(n + 1)\n",
    "\n",
    "output = np.random.randint(2)\n",
    "if output == 1:\n",
    "    constant_oracle.x(n)\n",
    "\n",
    "constant_oracle.draw()"
   ]
  },
  {
   "cell_type": "code",
   "execution_count": 4,
   "id": "1a2bb094-5222-4663-a2b6-cb36dc66cc65",
   "metadata": {},
   "outputs": [
    {
     "data": {
      "text/html": [
       "<pre style=\"word-wrap: normal;white-space: pre;background: #fff0;line-height: 1.1;font-family: &quot;Courier New&quot;,Courier,monospace\">     ┌───┐\n",
       "q_0: ┤ X ├\n",
       "     └───┘\n",
       "q_1: ─────\n",
       "     ┌───┐\n",
       "q_2: ┤ X ├\n",
       "     └───┘\n",
       "q_3: ─────\n",
       "          </pre>"
      ],
      "text/plain": [
       "     ┌───┐\n",
       "q_0: ┤ X ├\n",
       "     └───┘\n",
       "q_1: ─────\n",
       "     ┌───┐\n",
       "q_2: ┤ X ├\n",
       "     └───┘\n",
       "q_3: ─────\n",
       "          "
      ]
     },
     "execution_count": 4,
     "metadata": {},
     "output_type": "execute_result"
    }
   ],
   "source": [
    "# Balanced Oracle\n",
    "balanced_oracle = qiskit.QuantumCircuit(n + 1)\n",
    "# For every qubit we place an X-gate if the corresponding digit is 1\n",
    "balanced_string = '101'\n",
    "\n",
    "# Placing X-gates\n",
    "for qubit in range(len(balanced_string)):\n",
    "    if balanced_string[qubit] == '1':\n",
    "        balanced_oracle.x(qubit)\n",
    "balanced_oracle.draw()"
   ]
  },
  {
   "cell_type": "code",
   "execution_count": 5,
   "id": "30cc4e05-13cb-4b8f-b58a-b3aad222a654",
   "metadata": {},
   "outputs": [
    {
     "data": {
      "text/html": [
       "<pre style=\"word-wrap: normal;white-space: pre;background: #fff0;line-height: 1.1;font-family: &quot;Courier New&quot;,Courier,monospace\">     ┌───┐ ░                 ░ \n",
       "q_0: ┤ X ├─░───■─────────────░─\n",
       "     └───┘ ░   │             ░ \n",
       "q_1: ──────░───┼────■────────░─\n",
       "     ┌───┐ ░   │    │        ░ \n",
       "q_2: ┤ X ├─░───┼────┼────■───░─\n",
       "     └───┘ ░ ┌─┴─┐┌─┴─┐┌─┴─┐ ░ \n",
       "q_3: ──────░─┤ X ├┤ X ├┤ X ├─░─\n",
       "           ░ └───┘└───┘└───┘ ░ </pre>"
      ],
      "text/plain": [
       "     ┌───┐ ░                 ░ \n",
       "q_0: ┤ X ├─░───■─────────────░─\n",
       "     └───┘ ░   │             ░ \n",
       "q_1: ──────░───┼────■────────░─\n",
       "     ┌───┐ ░   │    │        ░ \n",
       "q_2: ┤ X ├─░───┼────┼────■───░─\n",
       "     └───┘ ░ ┌─┴─┐┌─┴─┐┌─┴─┐ ░ \n",
       "q_3: ──────░─┤ X ├┤ X ├┤ X ├─░─\n",
       "           ░ └───┘└───┘└───┘ ░ "
      ]
     },
     "execution_count": 5,
     "metadata": {},
     "output_type": "execute_result"
    }
   ],
   "source": [
    "# Next we do Controlled-NOT gates, using each input qubit as a control, and the output qubit as a target\n",
    "\n",
    "# Using barrier as divider\n",
    "balanced_oracle.barrier()\n",
    "# Controlled-NOT gates\n",
    "for qubit in range(n):\n",
    "    balanced_oracle.cx(qubit, n)\n",
    "\n",
    "balanced_oracle.barrier()\n",
    "balanced_oracle.draw()"
   ]
  },
  {
   "cell_type": "code",
   "execution_count": 6,
   "id": "0cfdf840-a88a-4f2a-b7b7-271fae140b89",
   "metadata": {},
   "outputs": [
    {
     "data": {
      "text/html": [
       "<pre style=\"word-wrap: normal;white-space: pre;background: #fff0;line-height: 1.1;font-family: &quot;Courier New&quot;,Courier,monospace\">     ┌───┐ ░                 ░ ┌───┐\n",
       "q_0: ┤ X ├─░───■─────────────░─┤ X ├\n",
       "     └───┘ ░   │             ░ └───┘\n",
       "q_1: ──────░───┼────■────────░──────\n",
       "     ┌───┐ ░   │    │        ░ ┌───┐\n",
       "q_2: ┤ X ├─░───┼────┼────■───░─┤ X ├\n",
       "     └───┘ ░ ┌─┴─┐┌─┴─┐┌─┴─┐ ░ └───┘\n",
       "q_3: ──────░─┤ X ├┤ X ├┤ X ├─░──────\n",
       "           ░ └───┘└───┘└───┘ ░      </pre>"
      ],
      "text/plain": [
       "     ┌───┐ ░                 ░ ┌───┐\n",
       "q_0: ┤ X ├─░───■─────────────░─┤ X ├\n",
       "     └───┘ ░   │             ░ └───┘\n",
       "q_1: ──────░───┼────■────────░──────\n",
       "     ┌───┐ ░   │    │        ░ ┌───┐\n",
       "q_2: ┤ X ├─░───┼────┼────■───░─┤ X ├\n",
       "     └───┘ ░ ┌─┴─┐┌─┴─┐┌─┴─┐ ░ └───┘\n",
       "q_3: ──────░─┤ X ├┤ X ├┤ X ├─░──────\n",
       "           ░ └───┘└───┘└───┘ ░      "
      ]
     },
     "execution_count": 6,
     "metadata": {},
     "output_type": "execute_result"
    }
   ],
   "source": [
    "# To finish up the balanced oracle we place X-gates after the barrier\n",
    "for qubit in range(len(balanced_string)):\n",
    "    if balanced_string[qubit] == '1':\n",
    "        balanced_oracle.x(qubit)\n",
    "balanced_oracle.draw()"
   ]
  },
  {
   "cell_type": "markdown",
   "id": "c133f974-c7c1-43ab-ac34-430cb18d994e",
   "metadata": {},
   "source": [
    "We have just created a balanced oracle. <br>\n",
    "Now to see if Deutsch-Jozsa algorithm can solve it"
   ]
  },
  {
   "cell_type": "code",
   "execution_count": 7,
   "id": "c1bdfb1f-e65b-4d4f-87c7-6bc8c2a600ac",
   "metadata": {},
   "outputs": [
    {
     "data": {
      "text/html": [
       "<pre style=\"word-wrap: normal;white-space: pre;background: #fff0;line-height: 1.1;font-family: &quot;Courier New&quot;,Courier,monospace\">     ┌───┐     \n",
       "q_0: ┤ H ├─────\n",
       "     ├───┤     \n",
       "q_1: ┤ H ├─────\n",
       "     ├───┤     \n",
       "q_2: ┤ H ├─────\n",
       "     ├───┤┌───┐\n",
       "q_3: ┤ X ├┤ H ├\n",
       "     └───┘└───┘\n",
       "c: 3/══════════\n",
       "               </pre>"
      ],
      "text/plain": [
       "     ┌───┐     \n",
       "q_0: ┤ H ├─────\n",
       "     ├───┤     \n",
       "q_1: ┤ H ├─────\n",
       "     ├───┤     \n",
       "q_2: ┤ H ├─────\n",
       "     ├───┤┌───┐\n",
       "q_3: ┤ X ├┤ H ├\n",
       "     └───┘└───┘\n",
       "c: 3/══════════\n",
       "               "
      ]
     },
     "execution_count": 7,
     "metadata": {},
     "output_type": "execute_result"
    }
   ],
   "source": [
    "# The first step in the algorithm is to initialise the input qubits in the |+⟩ and the output qubit in the state |−⟩\n",
    "jozsa_circuit = qiskit.QuantumCircuit(n + 1, n)\n",
    "\n",
    "# Applying H-gates\n",
    "for qubit in range(n):\n",
    "    jozsa_circuit.h(qubit)\n",
    "\n",
    "# Putting qubit in state |->\n",
    "jozsa_circuit.x(n)\n",
    "jozsa_circuit.h(n)\n",
    "jozsa_circuit.draw()"
   ]
  },
  {
   "cell_type": "code",
   "execution_count": 8,
   "id": "45e27c81-4b29-463d-86d7-81d3bea0970d",
   "metadata": {},
   "outputs": [
    {
     "name": "stderr",
     "output_type": "stream",
     "text": [
      "C:\\Users\\Pascal\\AppData\\Local\\Temp/ipykernel_35448/3927475880.py:2: DeprecationWarning: The QuantumCircuit.__iadd__() method is being deprecated. Use the compose() (potentially with the inplace=True argument) and tensor() methods which are more flexible w.r.t circuit register compatibility.\n",
      "  jozsa_circuit += balanced_oracle\n",
      "C:\\Users\\Pascal\\anaconda3\\lib\\site-packages\\qiskit\\circuit\\quantumcircuit.py:942: DeprecationWarning: The QuantumCircuit.extend() method is being deprecated. Use the compose() (potentially with the inplace=True argument) and tensor() methods which are more flexible w.r.t circuit register compatibility.\n",
      "  return self.extend(rhs)\n"
     ]
    },
    {
     "data": {
      "text/html": [
       "<pre style=\"word-wrap: normal;white-space: pre;background: #fff0;line-height: 1.1;font-family: &quot;Courier New&quot;,Courier,monospace\">     ┌───┐┌───┐ ░                 ░ ┌───┐\n",
       "q_0: ┤ H ├┤ X ├─░───■─────────────░─┤ X ├\n",
       "     ├───┤└───┘ ░   │             ░ └───┘\n",
       "q_1: ┤ H ├──────░───┼────■────────░──────\n",
       "     ├───┤┌───┐ ░   │    │        ░ ┌───┐\n",
       "q_2: ┤ H ├┤ X ├─░───┼────┼────■───░─┤ X ├\n",
       "     ├───┤├───┤ ░ ┌─┴─┐┌─┴─┐┌─┴─┐ ░ └───┘\n",
       "q_3: ┤ X ├┤ H ├─░─┤ X ├┤ X ├┤ X ├─░──────\n",
       "     └───┘└───┘ ░ └───┘└───┘└───┘ ░      \n",
       "c: 3/════════════════════════════════════\n",
       "                                         </pre>"
      ],
      "text/plain": [
       "     ┌───┐┌───┐ ░                 ░ ┌───┐\n",
       "q_0: ┤ H ├┤ X ├─░───■─────────────░─┤ X ├\n",
       "     ├───┤└───┘ ░   │             ░ └───┘\n",
       "q_1: ┤ H ├──────░───┼────■────────░──────\n",
       "     ├───┤┌───┐ ░   │    │        ░ ┌───┐\n",
       "q_2: ┤ H ├┤ X ├─░───┼────┼────■───░─┤ X ├\n",
       "     ├───┤├───┤ ░ ┌─┴─┐┌─┴─┐┌─┴─┐ ░ └───┘\n",
       "q_3: ┤ X ├┤ H ├─░─┤ X ├┤ X ├┤ X ├─░──────\n",
       "     └───┘└───┘ ░ └───┘└───┘└───┘ ░      \n",
       "c: 3/════════════════════════════════════\n",
       "                                         "
      ]
     },
     "execution_count": 8,
     "metadata": {},
     "output_type": "execute_result"
    }
   ],
   "source": [
    "# We now apply the balanced_oracle to the circuit\n",
    "jozsa_circuit += balanced_oracle\n",
    "jozsa_circuit.draw()"
   ]
  },
  {
   "cell_type": "code",
   "execution_count": 9,
   "id": "1da36e46-c873-453d-bb29-54abcfb49219",
   "metadata": {},
   "outputs": [
    {
     "data": {
      "text/html": [
       "<pre style=\"word-wrap: normal;white-space: pre;background: #fff0;line-height: 1.1;font-family: &quot;Courier New&quot;,Courier,monospace\">     ┌───┐┌───┐ ░                 ░ ┌───┐┌───┐ ░ ┌─┐      \n",
       "q_0: ┤ H ├┤ X ├─░───■─────────────░─┤ X ├┤ H ├─░─┤M├──────\n",
       "     ├───┤└───┘ ░   │             ░ ├───┤└───┘ ░ └╥┘┌─┐   \n",
       "q_1: ┤ H ├──────░───┼────■────────░─┤ H ├──────░──╫─┤M├───\n",
       "     ├───┤┌───┐ ░   │    │        ░ ├───┤┌───┐ ░  ║ └╥┘┌─┐\n",
       "q_2: ┤ H ├┤ X ├─░───┼────┼────■───░─┤ X ├┤ H ├─░──╫──╫─┤M├\n",
       "     ├───┤├───┤ ░ ┌─┴─┐┌─┴─┐┌─┴─┐ ░ └───┘└───┘ ░  ║  ║ └╥┘\n",
       "q_3: ┤ X ├┤ H ├─░─┤ X ├┤ X ├┤ X ├─░────────────░──╫──╫──╫─\n",
       "     └───┘└───┘ ░ └───┘└───┘└───┘ ░            ░  ║  ║  ║ \n",
       "c: 3/═════════════════════════════════════════════╩══╩══╩═\n",
       "                                                  0  1  2 </pre>"
      ],
      "text/plain": [
       "     ┌───┐┌───┐ ░                 ░ ┌───┐┌───┐ ░ ┌─┐      \n",
       "q_0: ┤ H ├┤ X ├─░───■─────────────░─┤ X ├┤ H ├─░─┤M├──────\n",
       "     ├───┤└───┘ ░   │             ░ ├───┤└───┘ ░ └╥┘┌─┐   \n",
       "q_1: ┤ H ├──────░───┼────■────────░─┤ H ├──────░──╫─┤M├───\n",
       "     ├───┤┌───┐ ░   │    │        ░ ├───┤┌───┐ ░  ║ └╥┘┌─┐\n",
       "q_2: ┤ H ├┤ X ├─░───┼────┼────■───░─┤ X ├┤ H ├─░──╫──╫─┤M├\n",
       "     ├───┤├───┤ ░ ┌─┴─┐┌─┴─┐┌─┴─┐ ░ └───┘└───┘ ░  ║  ║ └╥┘\n",
       "q_3: ┤ X ├┤ H ├─░─┤ X ├┤ X ├┤ X ├─░────────────░──╫──╫──╫─\n",
       "     └───┘└───┘ ░ └───┘└───┘└───┘ ░            ░  ║  ║  ║ \n",
       "c: 3/═════════════════════════════════════════════╩══╩══╩═\n",
       "                                                  0  1  2 "
      ]
     },
     "execution_count": 9,
     "metadata": {},
     "output_type": "execute_result"
    }
   ],
   "source": [
    "# We now perform H-dates on the n-input qubits and measure our input register\n",
    "\n",
    "# Applying H-gates\n",
    "for qubit in range(n):\n",
    "    jozsa_circuit.h(qubit)\n",
    "jozsa_circuit.barrier()\n",
    "\n",
    "# Measure\n",
    "for i in range(n):\n",
    "    jozsa_circuit.measure(i, i)\n",
    "    \n",
    "jozsa_circuit.draw()"
   ]
  },
  {
   "cell_type": "code",
   "execution_count": 10,
   "id": "cae276de-f017-4d44-bf6f-66c5db125e3b",
   "metadata": {},
   "outputs": [
    {
     "name": "stderr",
     "output_type": "stream",
     "text": [
      "C:\\Users\\Pascal\\anaconda3\\lib\\site-packages\\qiskit\\utils\\deprecation.py:62: DeprecationWarning: Using a qobj for run() is deprecated as of qiskit-aer 0.9.0 and will be removed no sooner than 3 months from that release date. Transpiled circuits should now be passed directly using `backend.run(circuits, **run_options).\n",
      "  return func(*args, **kwargs)\n"
     ]
    },
    {
     "data": {
      "image/png": "[encoded data removed]",
      "text/plain": [
       "<Figure size 504x360 with 1 Axes>"
      ]
     },
     "execution_count": 10,
     "metadata": {},
     "output_type": "execute_result"
    }
   ],
   "source": [
    "# Lets see the outputs\n",
    "aer_simulator = aer.QasmSimulator()\n",
    "qobj = qiskit.assemble(jozsa_circuit, aer_simulator)\n",
    "results = aer_simulator.run(qobj).result()\n",
    "answer = results.get_counts()\n",
    "\n",
    "plot_histogram(answer)"
   ]
  },
  {
   "cell_type": "markdown",
   "id": "185fc340-e779-43bc-8269-712ec93fbc6c",
   "metadata": {},
   "source": [
    "As we can see from the results there is a 0% chance of measuring 000. Deutsch-Jozsa's algorithm correctly predicts the function is balanced"
   ]
  },
  {
   "cell_type": "code",
   "execution_count": null,
   "id": "aa729c3c-0a77-4e8f-9a67-8b86d231c272",
   "metadata": {},
   "outputs": [],
   "source": []
  },
  {
   "cell_type": "code",
   "execution_count": null,
   "id": "a8b7f22c-e2b5-4327-b59f-c8465ef05d62",
   "metadata": {},
   "outputs": [],
   "source": []
  },
  {
   "cell_type": "code",
   "execution_count": null,
   "id": "dbb2d081-5646-41ce-a6a7-8526ad9f9837",
   "metadata": {},
   "outputs": [],
   "source": []
  },
  {
   "cell_type": "code",
   "execution_count": null,
   "id": "07c75a72-d067-40e6-b4b3-aa4e5a2b4bb2",
   "metadata": {},
   "outputs": [],
   "source": []
  }
 ],
 "metadata": {
  "kernelspec": {
   "display_name": "Python 3 (ipykernel)",
   "language": "python",
   "name": "python3"
  },
  "language_info": {
   "codemirror_mode": {
    "name": "ipython",
    "version": 3
   },
   "file_extension": ".py",
   "mimetype": "text/x-python",
   "name": "python",
   "nbconvert_exporter": "python",
   "pygments_lexer": "ipython3",
   "version": "3.8.12"
  }
 },
 "nbformat": 4,
 "nbformat_minor": 5
}
